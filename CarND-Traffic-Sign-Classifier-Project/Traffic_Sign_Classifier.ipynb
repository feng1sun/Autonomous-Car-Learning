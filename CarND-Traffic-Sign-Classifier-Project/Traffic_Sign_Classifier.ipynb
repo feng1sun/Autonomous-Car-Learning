{
 "cells": [
  {
   "cell_type": "markdown",
   "metadata": {},
   "source": [
    "# Self-Driving Car Engineer Nanodegree\n",
    "\n",
    "## Deep Learning\n",
    "\n",
    "## Project: Build a Traffic Sign Recognition Classifier\n",
    "\n",
    "In this notebook, a template is provided for you to implement your functionality in stages, which is required to successfully complete this project. If additional code is required that cannot be included in the notebook, be sure that the Python code is successfully imported and included in your submission if necessary. \n",
    "\n",
    "> **Note**: Once you have completed all of the code implementations, you need to finalize your work by exporting the iPython Notebook as an HTML document. Before exporting the notebook to html, all of the code cells need to have been run so that reviewers can see the final implementation and output. You can then export the notebook by using the menu above and navigating to  \\n\",\n",
    "    \"**File -> Download as -> HTML (.html)**. Include the finished document along with this notebook as your submission. \n",
    "\n",
    "In addition to implementing code, there is a writeup to complete. The writeup should be completed in a separate file, which can be either a markdown file or a pdf document. There is a [write up template](https://github.com/udacity/CarND-Traffic-Sign-Classifier-Project/blob/master/writeup_template.md) that can be used to guide the writing process. Completing the code template and writeup template will cover all of the [rubric points](https://review.udacity.com/#!/rubrics/481/view) for this project.\n",
    "\n",
    "The [rubric](https://review.udacity.com/#!/rubrics/481/view) contains \"Stand Out Suggestions\" for enhancing the project beyond the minimum requirements. The stand out suggestions are optional. If you decide to pursue the \"stand out suggestions\", you can include the code in this Ipython notebook and also discuss the results in the writeup file.\n",
    "\n",
    "\n",
    ">**Note:** Code and Markdown cells can be executed using the **Shift + Enter** keyboard shortcut. In addition, Markdown cells can be edited by typically double-clicking the cell to enter edit mode."
   ]
  },
  {
   "cell_type": "markdown",
   "metadata": {},
   "source": [
    "---\n",
    "## Step 0: Load The Data"
   ]
  },
  {
   "cell_type": "code",
   "execution_count": 103,
   "metadata": {
    "collapsed": true
   },
   "outputs": [],
   "source": [
    "# Load pickled data\n",
    "import pickle\n",
    "\n",
    "# TODO: Fill this in based on where you saved the training and testing data\n",
    "\n",
    "training_file = \"./traffic-signs-data/train.p\"\n",
    "validation_file= \"./traffic-signs-data/valid.p\"\n",
    "testing_file = \"./traffic-signs-data/test.p\"\n",
    "\n",
    "with open(training_file, mode='rb') as f:\n",
    "    train = pickle.load(f)\n",
    "with open(validation_file, mode='rb') as f:\n",
    "    valid = pickle.load(f)\n",
    "with open(testing_file, mode='rb') as f:\n",
    "    test = pickle.load(f)\n",
    "    \n",
    "X_train, y_train = train['features'], train['labels']\n",
    "X_valid, y_valid = valid['features'], valid['labels']\n",
    "X_test, y_test = test['features'], test['labels']"
   ]
  },
  {
   "cell_type": "markdown",
   "metadata": {},
   "source": [
    "---\n",
    "\n",
    "## Step 1: Dataset Summary & Exploration\n",
    "\n",
    "The pickled data is a dictionary with 4 key/value pairs:\n",
    "\n",
    "- `'features'` is a 4D array containing raw pixel data of the traffic sign images, (num examples, width, height, channels).\n",
    "- `'labels'` is a 1D array containing the label/class id of the traffic sign. The file `signnames.csv` contains id -> name mappings for each id.\n",
    "- `'sizes'` is a list containing tuples, (width, height) representing the original width and height the image.\n",
    "- `'coords'` is a list containing tuples, (x1, y1, x2, y2) representing coordinates of a bounding box around the sign in the image. **THESE COORDINATES ASSUME THE ORIGINAL IMAGE. THE PICKLED DATA CONTAINS RESIZED VERSIONS (32 by 32) OF THESE IMAGES**\n",
    "\n",
    "Complete the basic data summary below. Use python, numpy and/or pandas methods to calculate the data summary rather than hard coding the results. For example, the [pandas shape method](http://pandas.pydata.org/pandas-docs/stable/generated/pandas.DataFrame.shape.html) might be useful for calculating some of the summary results. "
   ]
  },
  {
   "cell_type": "markdown",
   "metadata": {},
   "source": [
    "### Provide a Basic Summary of the Data Set Using Python, Numpy and/or Pandas"
   ]
  },
  {
   "cell_type": "code",
   "execution_count": 104,
   "metadata": {
    "collapsed": true
   },
   "outputs": [],
   "source": [
    "import numpy as np\n",
    "from tqdm import tqdm"
   ]
  },
  {
   "cell_type": "code",
   "execution_count": 105,
   "metadata": {},
   "outputs": [
    {
     "name": "stdout",
     "output_type": "stream",
     "text": [
      "Number of training examples = 34799\n",
      "Number of validation examples = 4410\n",
      "Number of testing examples = 12630\n",
      "Image data shape = 32\n",
      "Number of classes = 43\n"
     ]
    }
   ],
   "source": [
    "### Replace each question mark with the appropriate value. \n",
    "### Use python, pandas or numpy methods rather than hard coding the results\n",
    "\n",
    "# TODO: Number of training examples\n",
    "n_train = X_train.shape[0]\n",
    "\n",
    "# TODO: Number of validation examples\n",
    "n_validation = X_valid.shape[0]\n",
    "\n",
    "# TODO: Number of testing examples.\n",
    "n_test = X_test.shape[0]\n",
    "\n",
    "# TODO: What's the shape of an traffic sign image?\n",
    "image_shape = X_train.shape[1]\n",
    "\n",
    "# TODO: How many unique classes/labels there are in the dataset.\n",
    "n_classes = len(np.unique(y_train))\n",
    "\n",
    "print(\"Number of training examples =\", n_train)\n",
    "print(\"Number of validation examples =\", n_validation)\n",
    "print(\"Number of testing examples =\", n_test)\n",
    "print(\"Image data shape =\", image_shape)\n",
    "print(\"Number of classes =\", n_classes)"
   ]
  },
  {
   "cell_type": "markdown",
   "metadata": {},
   "source": [
    "### Include an exploratory visualization of the dataset"
   ]
  },
  {
   "cell_type": "markdown",
   "metadata": {},
   "source": [
    "Visualize the German Traffic Signs Dataset using the pickled file(s). This is open ended, suggestions include: plotting traffic sign images, plotting the count of each sign, etc. \n",
    "\n",
    "The [Matplotlib](http://matplotlib.org/) [examples](http://matplotlib.org/examples/index.html) and [gallery](http://matplotlib.org/gallery.html) pages are a great resource for doing visualizations in Python.\n",
    "\n",
    "**NOTE:** It's recommended you start with something simple first. If you wish to do more, come back to it after you've completed the rest of the sections. It can be interesting to look at the distribution of classes in the training, validation and test set. Is the distribution the same? Are there more examples of some classes than others?"
   ]
  },
  {
   "cell_type": "code",
   "execution_count": 106,
   "metadata": {
    "collapsed": true
   },
   "outputs": [],
   "source": [
    "### Data exploration visualization code goes here.\n",
    "### Feel free to use as many code cells as needed.\n",
    "import matplotlib.pyplot as plt\n",
    "# Visualizations will be shown in the notebook.\n",
    "%matplotlib inline"
   ]
  },
  {
   "cell_type": "code",
   "execution_count": 107,
   "metadata": {},
   "outputs": [
    {
     "name": "stdout",
     "output_type": "stream",
     "text": [
      "(32, 32, 3)\n",
      "Class : 36\n"
     ]
    },
    {
     "data": {
      "text/plain": [
       "<matplotlib.image.AxesImage at 0x7ff6339b9438>"
      ]
     },
     "execution_count": 107,
     "metadata": {},
     "output_type": "execute_result"
    },
    {
     "data": {
      "image/png": "[encoded data removed]",
      "text/plain": [
       "<matplotlib.figure.Figure at 0x7ff632cf3be0>"
      ]
     },
     "metadata": {},
     "output_type": "display_data"
    }
   ],
   "source": [
    "idx = 1000\n",
    "img_sign = X_train[idx,:,:,:]\n",
    "lab_sign = y_train[idx]\n",
    "print(img_sign.shape)\n",
    "print('Class :',lab_sign)\n",
    "plt.imshow(img_sign)"
   ]
  },
  {
   "cell_type": "code",
   "execution_count": null,
   "metadata": {
    "collapsed": true
   },
   "outputs": [],
   "source": [
    "import cv2"
   ]
  },
  {
   "cell_type": "code",
   "execution_count": null,
   "metadata": {
    "collapsed": true
   },
   "outputs": [],
   "source": [
    "class ImageProcessor:\n",
    "    def random_effect(self,img):\n",
    "        a = np.random.randint(0,3)\n",
    "        if(a==0):\n",
    "            result = self.translate_img(img)\n",
    "        if(a==1):\n",
    "            result = self.rotate_img(img)\n",
    "        if(a==2):\n",
    "            result = self.blur_img(img)\n",
    "        return result\n",
    "    def translate_img(self,img):\n",
    "        x,y,c = img.shape\n",
    "        translation_x = np.random.uniform(-0.3*x,0.3*x)\n",
    "        translation_y = np.random.uniform(-0.3*y,0.3*y)\n",
    "        translation_matrix = np.float32([[1,0,translation_x],[0,1,translation_y]])\n",
    "        translation__img = cv2.warpAffine(img,translation_matrix,(x,y))\n",
    "        return translation__img\n",
    "    def rotate_img(self,img):\n",
    "        x,y,c = img.shape\n",
    "        angle = np.random.uniform(-30,30)\n",
    "        scale = np.random.uniform(1,2)\n",
    "        rotation_point = (x/2,y/2)\n",
    "        rotation_matrix = cv2.getRotationMatrix2D(rotation_point,angle,scale)\n",
    "        rotated_img = cv2.warpAffine(img,rotation_matrix,(x,y))\n",
    "        return rotated_img\n",
    "    def blur_img(self,img):\n",
    "        r = np.random.randint(0,3)\n",
    "        kernel_size = 2*r+1\n",
    "        return cv2.GaussianBlur(img,(kernel_size,kernel_size),0)\n",
    "\n",
    "imgp = ImageProcessor()"
   ]
  },
  {
   "cell_type": "markdown",
   "metadata": {},
   "source": [
    "#### Now I extend training data"
   ]
  },
  {
   "cell_type": "code",
   "execution_count": null,
   "metadata": {
    "collapsed": true
   },
   "outputs": [],
   "source": [
    "X_train, y_train = train['features'], train['labels']\n",
    "train_labels, train_labels_count = np.unique(y_train, return_counts = True)\n",
    "plt.bar(train_labels, train_labels_count, width=0.8)\n",
    "plt.title('Class Distribution across Training Data')\n",
    "plt.show()\n",
    "max_train_labels_count = np.max(train_labels_count)\n",
    "train_effect_times = []\n",
    "for i in train_labels_count:\n",
    "    temp = np.floor(max_train_labels_count/i).astype('uint8')\n",
    "    train_effect_times.append(temp)\n",
    "    \n",
    "len_x =len(X_train)\n",
    "\n",
    "for i in tqdm(range(len_x)):\n",
    "    label = y_train[i]\n",
    "    if(train_effect_times[label]>1):\n",
    "        for t in range(train_effect_times[label]):\n",
    "            input_img = X_train[i]\n",
    "            output_img = imgp.random_effect(input_img)\n",
    "            X_train = np.append(X_train,np.array([output_img]),axis=0)\n",
    "            y_train = np.append(y_train,[label],axis=0)"
   ]
  },
  {
   "cell_type": "code",
   "execution_count": null,
   "metadata": {
    "collapsed": true
   },
   "outputs": [],
   "source": [
    "print('The shape of X_train:',len(X_train))\n",
    "print('The shape of y_train:',len(y_train))\n",
    "train_labels, train_labels_count = np.unique(y_train, return_counts = True)\n",
    "plt.bar(train_labels, train_labels_count, width=0.8)\n",
    "plt.title('Class Distribution across Training Data')\n",
    "plt.show()\n",
    "np.save('./traffic-signs-data/new_X_train.npy',X_train)\n",
    "np.save('./traffic-signs-data/new_y_train.npy',y_train)"
   ]
  },
  {
   "cell_type": "markdown",
   "metadata": {},
   "source": [
    "#### Now I extend validation data"
   ]
  },
  {
   "cell_type": "code",
   "execution_count": null,
   "metadata": {
    "collapsed": true
   },
   "outputs": [],
   "source": [
    "X_valid, y_valid = valid['features'], valid['labels']\n",
    "valid_labels, valid_labels_count = np.unique(y_valid, return_counts = True)\n",
    "plt.bar(valid_labels, valid_labels_count, width=0.8)\n",
    "plt.title('Class Distribution across Validation Data')\n",
    "plt.show()\n",
    "max_valid_labels_count = np.max(valid_labels_count)\n",
    "\n",
    "valid_effect_times = []\n",
    "for i in valid_labels_count:\n",
    "    temp = np.floor(max_valid_labels_count/i).astype('uint8')\n",
    "    valid_effect_times.append(temp)\n",
    "    \n",
    "len_x =len(X_valid)\n",
    "\n",
    "for i in tqdm(range(len_x)):\n",
    "    label = y_valid[i]\n",
    "    if(valid_effect_times[label]>1):\n",
    "        for t in range(valid_effect_times[label]):\n",
    "            input_img = X_valid[i]\n",
    "            output_img = imgp.random_effect(input_img)\n",
    "            X_valid = np.append(X_valid,np.array([output_img]),axis=0)\n",
    "            y_valid = np.append(y_valid,[label],axis=0)"
   ]
  },
  {
   "cell_type": "code",
   "execution_count": null,
   "metadata": {
    "collapsed": true
   },
   "outputs": [],
   "source": [
    "print('The shape of X_valid:',X_valid.shape)\n",
    "print('The shape of y_valid:',y_valid.shape)\n",
    "valid_labels, valid_labels_count = np.unique(y_valid, return_counts = True)\n",
    "plt.bar(valid_labels, valid_labels_count, width=0.8)\n",
    "plt.title('Class Distribution across Validation Data')\n",
    "plt.show()\n",
    "np.save('./traffic-signs-data/new_X_valid.npy',X_valid)\n",
    "np.save('./traffic-signs-data/new_y_valid.npy',y_valid)"
   ]
  },
  {
   "cell_type": "markdown",
   "metadata": {},
   "source": [
    "#### Now I extend testing data"
   ]
  },
  {
   "cell_type": "code",
   "execution_count": null,
   "metadata": {
    "collapsed": true
   },
   "outputs": [],
   "source": [
    "with open(testing_file, mode='rb') as f:\n",
    "    test = pickle.load(f)\n",
    "\n",
    "X_test, y_test = test['features'], test['labels']\n",
    "test_labels, test_labels_count = np.unique(y_test, return_counts = True)\n",
    "plt.bar(test_labels, test_labels_count, width=0.8)\n",
    "plt.title('Class Distribution across testing Data')\n",
    "plt.show()\n",
    "max_test_labels_count = np.max(test_labels_count)\n",
    "\n",
    "test_effect_times = []\n",
    "for i in test_labels_count:\n",
    "    temp = np.floor(max_test_labels_count/i).astype('uint8')\n",
    "    test_effect_times.append(temp)\n",
    "    \n",
    "len_x =len(X_test)\n",
    "\n",
    "for i in tqdm(range(len_x)):\n",
    "    label = y_test[i]\n",
    "    if(test_effect_times[label]>1):\n",
    "        for t in range(test_effect_times[label]):\n",
    "            input_img = X_test[i]\n",
    "            output_img = imgp.random_effect(input_img)\n",
    "            X_test = np.append(X_test,np.array([output_img]),axis=0)\n",
    "            y_test = np.append(y_test,[label],axis=0)"
   ]
  },
  {
   "cell_type": "code",
   "execution_count": null,
   "metadata": {
    "collapsed": true
   },
   "outputs": [],
   "source": [
    "print('The shape of X_test:',X_test.shape)\n",
    "print('The shape of y_test:',y_test.shape)\n",
    "test_labels, test_labels_count = np.unique(y_test, return_counts = True)\n",
    "plt.bar(test_labels, test_labels_count, width=0.8)\n",
    "plt.title('Class Distribution across testing Data')\n",
    "plt.show()\n",
    "np.save('./traffic-signs-data/new_X_test.npy',X_test)\n",
    "np.save('./traffic-signs-data/new_y_tset.npy',y_test)"
   ]
  },
  {
   "cell_type": "code",
   "execution_count": null,
   "metadata": {
    "collapsed": true
   },
   "outputs": [],
   "source": [
    "idx=np.random.randint(0,len(X_train))\n",
    "print(idx)\n",
    "img = X_train[idx]\n",
    "label = y_train[idx]\n",
    "plt.title(label)\n",
    "plt.imshow(img)\n"
   ]
  },
  {
   "cell_type": "markdown",
   "metadata": {},
   "source": [
    "----\n",
    "\n",
    "## Step 2: Design and Test a Model Architecture\n",
    "\n",
    "Design and implement a deep learning model that learns to recognize traffic signs. Train and test your model on the [German Traffic Sign Dataset](http://benchmark.ini.rub.de/?section=gtsrb&subsection=dataset).\n",
    "\n",
    "The LeNet-5 implementation shown in the [classroom](https://classroom.udacity.com/nanodegrees/nd013/parts/fbf77062-5703-404e-b60c-95b78b2f3f9e/modules/6df7ae49-c61c-4bb2-a23e-6527e69209ec/lessons/601ae704-1035-4287-8b11-e2c2716217ad/concepts/d4aca031-508f-4e0b-b493-e7b706120f81) at the end of the CNN lesson is a solid starting point. You'll have to change the number of classes and possibly the preprocessing, but aside from that it's plug and play! \n",
    "\n",
    "With the LeNet-5 solution from the lecture, you should expect a validation set accuracy of about 0.89. To meet specifications, the validation set accuracy will need to be at least 0.93. It is possible to get an even higher accuracy, but 0.93 is the minimum for a successful project submission. \n",
    "\n",
    "There are various aspects to consider when thinking about this problem:\n",
    "\n",
    "- Neural network architecture (is the network over or underfitting?)\n",
    "- Play around preprocessing techniques (normalization, rgb to grayscale, etc)\n",
    "- Number of examples per label (some have more than others).\n",
    "- Generate fake data.\n",
    "\n",
    "Here is an example of a [published baseline model on this problem](http://yann.lecun.com/exdb/publis/pdf/sermanet-ijcnn-11.pdf). It's not required to be familiar with the approach used in the paper but, it's good practice to try to read papers like these."
   ]
  },
  {
   "cell_type": "markdown",
   "metadata": {},
   "source": [
    "### Pre-process the Data Set (normalization, grayscale, etc.)"
   ]
  },
  {
   "cell_type": "markdown",
   "metadata": {},
   "source": [
    "Minimally, the image data should be normalized so that the data has mean zero and equal variance. For image data, `(pixel - 128)/ 128` is a quick way to approximately normalize the data and can be used in this project. \n",
    "\n",
    "Other pre-processing steps are optional. You can try different techniques to see if it improves performance. \n",
    "\n",
    "Use the code cell (or multiple code cells, if necessary) to implement the first step of your project."
   ]
  },
  {
   "cell_type": "code",
   "execution_count": 127,
   "metadata": {},
   "outputs": [
    {
     "name": "stdout",
     "output_type": "stream",
     "text": [
      "X_test shape:(31680, 32, 32, 3)\t y_test shape:(31680,)\n",
      "X_valid shape:(11130, 32, 32, 3)\t y_valid shape:(11130,)\n",
      "X_train shape:(84326, 32, 32, 3)\t y_train shape:(84326,)\n"
     ]
    }
   ],
   "source": [
    "X_test = np.load('./traffic-signs-data/new_X_test.npy')\n",
    "y_test = np.load('./traffic-signs-data/new_y_tset.npy')\n",
    "X_valid = np.load('./traffic-signs-data/new_X_valid.npy')\n",
    "y_valid = np.load('./traffic-signs-data/new_y_valid.npy')\n",
    "X_train = np.load('./traffic-signs-data/new_X_train.npy')\n",
    "y_train = np.load('./traffic-signs-data/new_y_train.npy')\n",
    "print('X_test shape:{}\\t y_test shape:{}'.format(X_test.shape,y_test.shape))\n",
    "print('X_valid shape:{}\\t y_valid shape:{}'.format(X_valid.shape,y_valid.shape))\n",
    "print('X_train shape:{}\\t y_train shape:{}'.format(X_train.shape,y_train.shape))"
   ]
  },
  {
   "cell_type": "code",
   "execution_count": 128,
   "metadata": {},
   "outputs": [
    {
     "data": {
      "image/png": "[encoded data removed]",
      "text/plain": [
       "<matplotlib.figure.Figure at 0x7ff5fed9ecc0>"
      ]
     },
     "metadata": {},
     "output_type": "display_data"
    },
    {
     "data": {
      "image/png": "[encoded data removed]",
      "text/plain": [
       "<matplotlib.figure.Figure at 0x7ff5db7addd8>"
      ]
     },
     "metadata": {},
     "output_type": "display_data"
    },
    {
     "data": {
      "image/png": "[encoded data removed]",
      "text/plain": [
       "<matplotlib.figure.Figure at 0x7ff63388aa90>"
      ]
     },
     "metadata": {},
     "output_type": "display_data"
    }
   ],
   "source": [
    "train_labels, train_labels_count = np.unique(y_train, return_counts = True)\n",
    "valid_labels, valid_labels_count = np.unique(y_valid, return_counts = True)\n",
    "test_labels, test_labels_count = np.unique(y_test, return_counts = True)\n",
    "#plt.rcParams[\"figure.figsize\"] = [15, 5]\n",
    "plt.bar(train_labels, train_labels_count, width=0.8)\n",
    "plt.title('Class Distribution across Training Data')\n",
    "plt.show()\n",
    "plt.bar(train_labels, train_labels_count, width=0.8)\n",
    "plt.title('Class Distribution across Validation Data')\n",
    "plt.show()\n",
    "plt.title('Class Distribution across Testing Data')\n",
    "plt.bar(test_labels, test_labels_count, width=0.8)\n",
    "plt.show()"
   ]
  },
  {
   "cell_type": "markdown",
   "metadata": {},
   "source": [
    "As shown above, the training data's class distribution is highly skewed."
   ]
  },
  {
   "cell_type": "markdown",
   "metadata": {},
   "source": [
    "### Model Architecture"
   ]
  },
  {
   "cell_type": "code",
   "execution_count": 108,
   "metadata": {
    "collapsed": true
   },
   "outputs": [],
   "source": [
    "from sklearn.utils import shuffle\n",
    "\n",
    "#X_train, y_train = shuffle(X_train, y_train)"
   ]
  },
  {
   "cell_type": "code",
   "execution_count": 109,
   "metadata": {
    "collapsed": true
   },
   "outputs": [],
   "source": [
    "### Define your architecture here.\n",
    "### Feel free to use as many code cells as needed.\n",
    "import tensorflow as tf\n",
    "\n",
    "EPOCHS = 20\n",
    "BATCH_SIZE = 128\n",
    "k_p = 0.5"
   ]
  },
  {
   "cell_type": "markdown",
   "metadata": {},
   "source": [
    "### This is for RGB image"
   ]
  },
  {
   "cell_type": "code",
   "execution_count": 110,
   "metadata": {
    "collapsed": true
   },
   "outputs": [],
   "source": [
    "from tensorflow.contrib.layers import flatten\n",
    "\n",
    "def LeNet_rgb(x,keep_prob):    \n",
    "    # Arguments used for tf.truncated_normal, randomly defines variables for the weights and biases for each layer\n",
    "    mu = 0\n",
    "    sigma = 0.1\n",
    "    w_1 = tf.Variable(tf.truncated_normal((3,3,3,8),mean=mu,stddev=sigma))\n",
    "    b_1 = tf.Variable(tf.zeros(8))\n",
    "    w_2 = tf.Variable(tf.truncated_normal((3,3,8,16),mean=mu,stddev=sigma))\n",
    "    b_2 = tf.Variable(tf.zeros(16))\n",
    "    fcw_3 = tf.Variable(tf.truncated_normal((1024,512),mean=mu,stddev=sigma))\n",
    "    fcb_3 = tf.Variable(tf.zeros(512))\n",
    "    fcw_4 = tf.Variable(tf.truncated_normal((512,128),mean=mu,stddev=sigma))\n",
    "    fcb_4 = tf.Variable(tf.zeros(128))\n",
    "    fcw_5 = tf.Variable(tf.truncated_normal((128,43),mean=mu,stddev=sigma))\n",
    "    fcb_5 = tf.Variable(tf.zeros(43))\n",
    "    \n",
    "    # TODO: Layer 1: Convolutional. Input = 32x32x1. Output = 32X32X8.\n",
    "    layer_1 = tf.nn.conv2d(x, w_1, [1,1,1,1], 'SAME') + b_1\n",
    "    # TODO: Activation.\n",
    "    layer_1 = tf.nn.relu(layer_1)\n",
    "    # TODO: Pooling. Input = 32X32X8. Output = 16x16x16.\n",
    "    layer_1 = tf.nn.max_pool(layer_1, [1, 2, 2, 1], [1, 2, 2, 1], 'SAME')\n",
    "    # TODO: Layer 2: Convolutional. Output = 16x16x16.\n",
    "    layer_2 = tf.nn.conv2d(layer_1, w_2, [1,1,1,1], 'SAME') + b_2\n",
    "    # TODO: Activation.\n",
    "    layer_2 = tf.nn.relu(layer_2)\n",
    "    # TODO: Pooling. Input = 16x16x16. Output = 8x8x16.\n",
    "    layer_2 = tf.nn.max_pool(layer_2, [1, 2, 2, 1], [1, 2, 2, 1], 'SAME')\n",
    "    # TODO: Flatten. Input = 8x8x16. Output = 4096.\n",
    "    flatten = tf.contrib.layers.flatten(layer_2)\n",
    "    # TODO: Layer 3: Fully Connected. Input = 4096. Output = 1024.\n",
    "    fc_1 = tf.add(tf.matmul(flatten, fcw_3), fcb_3)\n",
    "    # TODO: Activation.\n",
    "    fc_1 = tf.nn.relu(fc_1)\n",
    "    fc_1 = tf.nn.dropout(fc_1,keep_prob)\n",
    "    # TODO: Layer 4: Fully Connected. Input = 1024. Output = 256.\n",
    "    fc_2 = tf.add(tf.matmul(fc_1, fcw_4), fcb_4)\n",
    "    # TODO: Activation.\n",
    "    fc_2 = tf.nn.relu(fc_2)\n",
    "    fc_2 = tf.nn.dropout(fc_2,keep_prob)\n",
    "    # TODO: Layer 5: Fully Connected. Input = 84. Output = 10.\n",
    "    logits = tf.add(tf.matmul(fc_2, fcw_5), fcb_5)\n",
    "    \n",
    "    return logits\n",
    "    \n",
    "    return logits"
   ]
  },
  {
   "cell_type": "markdown",
   "metadata": {},
   "source": [
    "### This is for Gray image"
   ]
  },
  {
   "cell_type": "code",
   "execution_count": 111,
   "metadata": {
    "collapsed": true
   },
   "outputs": [],
   "source": [
    "\n",
    "def LeNet_gray(x,keep_prob):    \n",
    "    # Arguments used for tf.truncated_normal, randomly defines variables for the weights and biases for each layer\n",
    "    mu = 0\n",
    "    sigma = 0.1\n",
    "    w_1 = tf.Variable(tf.truncated_normal((3,3,1,8),mean=mu,stddev=sigma))\n",
    "    b_1 = tf.Variable(tf.zeros(8))\n",
    "    w_2 = tf.Variable(tf.truncated_normal((3,3,8,16),mean=mu,stddev=sigma))\n",
    "    b_2 = tf.Variable(tf.zeros(16))\n",
    "    fcw_3 = tf.Variable(tf.truncated_normal((1024,512),mean=mu,stddev=sigma))\n",
    "    fcb_3 = tf.Variable(tf.zeros(512))\n",
    "    fcw_4 = tf.Variable(tf.truncated_normal((512,128),mean=mu,stddev=sigma))\n",
    "    fcb_4 = tf.Variable(tf.zeros(128))\n",
    "    fcw_5 = tf.Variable(tf.truncated_normal((128,43),mean=mu,stddev=sigma))\n",
    "    fcb_5 = tf.Variable(tf.zeros(43))\n",
    "    \n",
    "    # TODO: Layer 1: Convolutional. Input = 32x32x1. Output = 32X32X8.\n",
    "    layer_1 = tf.nn.conv2d(x, w_1, [1,1,1,1], 'SAME') + b_1\n",
    "    # TODO: Activation.\n",
    "    layer_1 = tf.nn.relu(layer_1)\n",
    "    # TODO: Pooling. Input = 32X32X8. Output = 16x16x16.\n",
    "    layer_1 = tf.nn.max_pool(layer_1, [1, 2, 2, 1], [1, 2, 2, 1], 'SAME')\n",
    "    # TODO: Layer 2: Convolutional. Output = 16x16x16.\n",
    "    layer_2 = tf.nn.conv2d(layer_1, w_2, [1,1,1,1], 'SAME') + b_2\n",
    "    # TODO: Activation.\n",
    "    layer_2 = tf.nn.relu(layer_2)\n",
    "    # TODO: Pooling. Input = 16x16x16. Output = 8x8x16.\n",
    "    layer_2 = tf.nn.max_pool(layer_2, [1, 2, 2, 1], [1, 2, 2, 1], 'SAME')\n",
    "    # TODO: Flatten. Input = 8x8x16. Output = 4096.\n",
    "    flatten = tf.contrib.layers.flatten(layer_2)\n",
    "    # TODO: Layer 3: Fully Connected. Input = 4096. Output = 1024.\n",
    "    fc_1 = tf.add(tf.matmul(flatten, fcw_3), fcb_3)\n",
    "    # TODO: Activation.\n",
    "    fc_1 = tf.nn.relu(fc_1)\n",
    "    fc_1 = tf.nn.dropout(fc_1,keep_prob)\n",
    "    # TODO: Layer 4: Fully Connected. Input = 1024. Output = 256.\n",
    "    fc_2 = tf.add(tf.matmul(fc_1, fcw_4), fcb_4)\n",
    "    # TODO: Activation.\n",
    "    fc_2 = tf.nn.relu(fc_2)\n",
    "    fc_2 = tf.nn.dropout(fc_2,keep_prob)\n",
    "    # TODO: Layer 5: Fully Connected. Input = 84. Output = 10.\n",
    "    logits = tf.add(tf.matmul(fc_2, fcw_5), fcb_5)\n",
    "    \n",
    "    return logits"
   ]
  },
  {
   "cell_type": "markdown",
   "metadata": {},
   "source": [
    "### I create a same network to learning gray traffic signs.\n",
    "* First I convert RGB to Gray imgae.\n",
    "* I display a Gray signs and RGB signs\n",
    "* I normalized the Gray image and RGB image\n",
    "* I change the input tensor to (None,32,32,1)"
   ]
  },
  {
   "cell_type": "code",
   "execution_count": 112,
   "metadata": {},
   "outputs": [
    {
     "name": "stdout",
     "output_type": "stream",
     "text": [
      "The shape of X_train_gray: (34799, 32, 32, 1)\n",
      "The shape of X_valid_gray: (4410, 32, 32, 1)\n",
      "The shape of X_test_gry: (12630, 32, 32, 1)\n"
     ]
    }
   ],
   "source": [
    "X_train_gray = np.sum(X_train/3, axis=3, keepdims=True)\n",
    "X_valid_gray = np.sum(X_valid/3, axis=3, keepdims=True)\n",
    "X_test_gry = np.sum(X_test/3, axis=3, keepdims=True)\n",
    "print('The shape of X_train_gray: {}'.format(X_train_gray.shape))\n",
    "print('The shape of X_valid_gray: {}'.format(X_valid_gray.shape))\n",
    "print('The shape of X_test_gry: {}'.format(X_test_gry.shape))"
   ]
  },
  {
   "cell_type": "code",
   "execution_count": 113,
   "metadata": {},
   "outputs": [
    {
     "name": "stdout",
     "output_type": "stream",
     "text": [
      "14530\n"
     ]
    },
    {
     "data": {
      "text/plain": [
       "<matplotlib.image.AxesImage at 0x7ff633918240>"
      ]
     },
     "execution_count": 113,
     "metadata": {},
     "output_type": "execute_result"
    },
    {
     "data": {
      "image/png": "[encoded data removed]",
      "text/plain": [
       "<matplotlib.figure.Figure at 0x7ff63399c550>"
      ]
     },
     "metadata": {},
     "output_type": "display_data"
    }
   ],
   "source": [
    "gray_idx = np.random.randint(0,len(X_train_gray))\n",
    "print(gray_idx)\n",
    "plt.figure(1)\n",
    "plt.subplot(1,2,1)\n",
    "plt.title(y_train[gray_idx])\n",
    "plt.imshow(X_train_gray[gray_idx].squeeze(), cmap='gray')\n",
    "plt.subplot(1,2,2)\n",
    "plt.title(y_train[gray_idx])\n",
    "plt.imshow(X_train[gray_idx])"
   ]
  },
  {
   "cell_type": "code",
   "execution_count": 114,
   "metadata": {
    "collapsed": true
   },
   "outputs": [],
   "source": [
    "X_train_gray = (X_train_gray-128.)/128.\n",
    "X_valid_gray = (X_valid_gray-128.)/128.\n",
    "\n",
    "X_train = (X_train-128.)/128.\n",
    "X_valid = (X_valid-128.)/128."
   ]
  },
  {
   "cell_type": "code",
   "execution_count": 115,
   "metadata": {
    "collapsed": true
   },
   "outputs": [],
   "source": [
    "x_gray = tf.placeholder(tf.float32, (None, 32, 32, 1))\n",
    "x_rgb = tf.placeholder(tf.float32, (None, 32, 32, 3))\n",
    "y = tf.placeholder(tf.int32, (None))\n",
    "learning_rate = tf.placeholder(tf.float32)\n",
    "keep_prob = tf.placeholder(tf.float32)\n",
    "one_hot_y = tf.one_hot(y, 43)"
   ]
  },
  {
   "cell_type": "code",
   "execution_count": 116,
   "metadata": {
    "collapsed": true
   },
   "outputs": [],
   "source": [
    "# FOR RGB\n",
    "logits_rgb = LeNet_rgb(x_rgb,keep_prob)\n",
    "cross_entropy_rgb = tf.nn.softmax_cross_entropy_with_logits(labels=one_hot_y, logits=logits_rgb)\n",
    "loss_operation_rgb = tf.reduce_mean(cross_entropy_rgb)\n",
    "optimizer_rgb = tf.train.AdamOptimizer(learning_rate = learning_rate)\n",
    "training_operation_rgb = optimizer_rgb.minimize(loss_operation_rgb)"
   ]
  },
  {
   "cell_type": "code",
   "execution_count": 117,
   "metadata": {
    "collapsed": true
   },
   "outputs": [],
   "source": [
    "# FOR GRAY\n",
    "logits_gray = LeNet_gray(x_gray,keep_prob)\n",
    "cross_entropy_gray = tf.nn.softmax_cross_entropy_with_logits(labels=one_hot_y, logits=logits_gray)\n",
    "loss_operation_gray = tf.reduce_mean(cross_entropy_gray)\n",
    "optimizer_gray = tf.train.AdamOptimizer(learning_rate = learning_rate)\n",
    "training_operation_gray = optimizer_gray.minimize(loss_operation_gray)"
   ]
  },
  {
   "cell_type": "code",
   "execution_count": 118,
   "metadata": {
    "collapsed": true
   },
   "outputs": [],
   "source": [
    "correct_prediction_rgb = tf.equal(tf.argmax(logits_rgb, 1), tf.argmax(one_hot_y, 1))\n",
    "accuracy_operation_rgb = tf.reduce_mean(tf.cast(correct_prediction_rgb, tf.float32))\n",
    "\n",
    "correct_prediction_gray = tf.equal(tf.argmax(logits_gray, 1), tf.argmax(one_hot_y, 1))\n",
    "accuracy_operation_gray = tf.reduce_mean(tf.cast(correct_prediction_gray, tf.float32))\n",
    "saver = tf.train.Saver()\n",
    "\n",
    "def evaluate(X_data, y_data, accuracy_operation, RGB=True):   \n",
    "    num_examples = len(X_data)\n",
    "    total_accuracy = 0\n",
    "    sess = tf.get_default_session()\n",
    "    for offset in range(0, num_examples, BATCH_SIZE):\n",
    "        batch_x, batch_y = X_data[offset:offset+BATCH_SIZE], y_data[offset:offset+BATCH_SIZE]\n",
    "        if RGB:\n",
    "            feeddict = {x_rgb: batch_x, y: batch_y, keep_prob:1.0}\n",
    "            accuracy = sess.run(accuracy_operation, feed_dict=feeddict)\n",
    "        else:\n",
    "            feeddict = {x_gray: batch_x, y: batch_y, keep_prob:1.0}\n",
    "            accuracy = sess.run(accuracy_operation, feed_dict=feeddict)\n",
    "        \n",
    "        total_accuracy += (accuracy * len(batch_x))\n",
    "    return total_accuracy / num_examples"
   ]
  },
  {
   "cell_type": "markdown",
   "metadata": {},
   "source": [
    "### Train, Validate and Test the Model"
   ]
  },
  {
   "cell_type": "markdown",
   "metadata": {},
   "source": [
    "A validation set can be used to assess how well the model is performing. A low accuracy on the training and validation\n",
    "sets imply underfitting. A high accuracy on the training set but low accuracy on the validation set implies overfitting."
   ]
  },
  {
   "cell_type": "markdown",
   "metadata": {},
   "source": [
    "### First I train network with RGB image"
   ]
  },
  {
   "cell_type": "code",
   "execution_count": 119,
   "metadata": {
    "collapsed": true
   },
   "outputs": [],
   "source": [
    "import time"
   ]
  },
  {
   "cell_type": "code",
   "execution_count": 120,
   "metadata": {
    "scrolled": false
   },
   "outputs": [
    {
     "name": "stdout",
     "output_type": "stream",
     "text": [
      "Training...\n",
      "\n",
      "EPOCH 1 ...\t\t\tTraining Time:63.4\n",
      "Validation Accuracy = 0.632\tlearning rate = 0.001\n",
      "\n",
      "EPOCH 2 ...\t\t\tTraining Time:22.5\n",
      "Validation Accuracy = 0.806\tlearning rate = 0.001\n",
      "\n",
      "EPOCH 3 ...\t\t\tTraining Time:18.5\n",
      "Validation Accuracy = 0.834\tlearning rate = 0.001\n",
      "\n",
      "EPOCH 4 ...\t\t\tTraining Time:19.9\n",
      "Validation Accuracy = 0.877\tlearning rate = 0.001\n",
      "\n",
      "EPOCH 5 ...\t\t\tTraining Time:17.1\n",
      "Validation Accuracy = 0.888\tlearning rate = 0.001\n",
      "\n",
      "EPOCH 6 ...\t\t\tTraining Time:17.5\n",
      "Validation Accuracy = 0.903\tlearning rate = 0.001\n",
      "\n",
      "EPOCH 7 ...\t\t\tTraining Time:18.3\n",
      "Validation Accuracy = 0.916\tlearning rate = 0.001\n",
      "\n",
      "EPOCH 8 ...\t\t\tTraining Time:18.0\n",
      "Validation Accuracy = 0.924\tlearning rate = 0.001\n",
      "\n",
      "EPOCH 9 ...\t\t\tTraining Time:17.9\n",
      "Validation Accuracy = 0.922\tlearning rate = 0.001\n",
      "\n",
      "EPOCH 10 ...\t\t\tTraining Time:17.9\n",
      "Validation Accuracy = 0.920\tlearning rate = 0.001\n",
      "\n",
      "EPOCH 11 ...\t\t\tTraining Time:18.0\n",
      "Validation Accuracy = 0.932\tlearning rate = 0.0001\n",
      "\n",
      "EPOCH 12 ...\t\t\tTraining Time:17.5\n",
      "Validation Accuracy = 0.936\tlearning rate = 0.0001\n",
      "\n",
      "EPOCH 13 ...\t\t\tTraining Time:18.2\n",
      "Validation Accuracy = 0.935\tlearning rate = 0.0001\n",
      "\n",
      "EPOCH 14 ...\t\t\tTraining Time:18.0\n",
      "Validation Accuracy = 0.935\tlearning rate = 0.0001\n",
      "\n",
      "EPOCH 15 ...\t\t\tTraining Time:18.0\n",
      "Validation Accuracy = 0.937\tlearning rate = 0.0001\n",
      "\n",
      "EPOCH 16 ...\t\t\tTraining Time:17.8\n",
      "Validation Accuracy = 0.936\tlearning rate = 0.0001\n",
      "\n",
      "EPOCH 17 ...\t\t\tTraining Time:17.8\n",
      "Validation Accuracy = 0.936\tlearning rate = 0.0001\n",
      "\n",
      "EPOCH 18 ...\t\t\tTraining Time:17.7\n",
      "Validation Accuracy = 0.934\tlearning rate = 0.0001\n",
      "\n",
      "EPOCH 19 ...\t\t\tTraining Time:17.8\n",
      "Validation Accuracy = 0.934\tlearning rate = 0.0001\n",
      "\n",
      "EPOCH 20 ...\t\t\tTraining Time:17.8\n",
      "Validation Accuracy = 0.936\tlearning rate = 0.0001\n",
      "\n",
      "EPOCH 21 ...\t\t\tTraining Time:18.0\n",
      "Validation Accuracy = 0.936\tlearning rate = 1e-05\n",
      "\n",
      "EPOCH 22 ...\t\t\tTraining Time:17.8\n",
      "Validation Accuracy = 0.937\tlearning rate = 1e-05\n",
      "\n",
      "EPOCH 23 ...\t\t\tTraining Time:18.2\n",
      "Validation Accuracy = 0.937\tlearning rate = 1e-05\n",
      "\n",
      "EPOCH 24 ...\t\t\tTraining Time:17.9\n",
      "Validation Accuracy = 0.937\tlearning rate = 1e-05\n",
      "\n",
      "EPOCH 25 ...\t\t\tTraining Time:18.1\n",
      "Validation Accuracy = 0.937\tlearning rate = 1e-05\n",
      "\n",
      "EPOCH 26 ...\t\t\tTraining Time:18.0\n",
      "Validation Accuracy = 0.936\tlearning rate = 1e-05\n",
      "\n",
      "EPOCH 27 ...\t\t\tTraining Time:18.3\n",
      "Validation Accuracy = 0.936\tlearning rate = 1e-05\n",
      "\n",
      "EPOCH 28 ...\t\t\tTraining Time:18.1\n",
      "Validation Accuracy = 0.937\tlearning rate = 1e-05\n",
      "\n",
      "EPOCH 29 ...\t\t\tTraining Time:18.5\n",
      "Validation Accuracy = 0.937\tlearning rate = 1e-05\n",
      "\n",
      "EPOCH 30 ...\t\t\tTraining Time:17.7\n",
      "Validation Accuracy = 0.936\tlearning rate = 1e-05\n",
      "\n",
      "Model saved\n"
     ]
    }
   ],
   "source": [
    "### Train your model here.\n",
    "### Calculate and report the accuracy on the training and validation set.\n",
    "### Once a final model architecture is selected, \n",
    "### the accuracy on the test set should be calculated and reported as well.\n",
    "### Feel free to use as many code cells as needed.\n",
    "rate = 0.01\n",
    "EPOCHS = 30\n",
    "with tf.Session() as sess:\n",
    "    sess.run(tf.global_variables_initializer())\n",
    "    num_examples = len(X_train)\n",
    "    \n",
    "    print(\"Training...\")\n",
    "    print()\n",
    "    for i in range(EPOCHS):\n",
    "        rate = rate*0.1 if i%10 == 0 else rate\n",
    "        X_train, y_train = shuffle(X_train, y_train)\n",
    "        train_start_time = time.time()\n",
    "        for offset in range(0, num_examples, BATCH_SIZE):\n",
    "            end = offset + BATCH_SIZE\n",
    "            batch_x, batch_y = X_train[offset:end], y_train[offset:end]\n",
    "            sess.run(training_operation_rgb, feed_dict={x_rgb: batch_x, y: batch_y, learning_rate:rate, keep_prob:k_p})\n",
    "        \n",
    "        train_last_time = time.time()  \n",
    "        validation_accuracy = evaluate(X_valid, y_valid, accuracy_operation_rgb)\n",
    "        print(\"EPOCH {} ...\\t\\t\\tTraining Time:{:.1f}\".format(i+1,train_last_time-train_start_time))\n",
    "        print(\"Validation Accuracy = {:.3f}\\tlearning rate = {}\".format(validation_accuracy, rate))\n",
    "        print()\n",
    "        \n",
    "    saver.save(sess, './lenet_rgb')\n",
    "    print(\"Model saved\")"
   ]
  },
  {
   "cell_type": "markdown",
   "metadata": {},
   "source": [
    "### Now I train network with gray image"
   ]
  },
  {
   "cell_type": "code",
   "execution_count": 75,
   "metadata": {},
   "outputs": [
    {
     "name": "stdout",
     "output_type": "stream",
     "text": [
      "Training...\n",
      "\n",
      "EPOCH 1 ...\t\t\tTraining Time:17.3\n",
      "Validation Accuracy = 0.780\tlearning rate = 0.001\n",
      "\n",
      "EPOCH 2 ...\t\t\tTraining Time:16.6\n",
      "Validation Accuracy = 0.884\tlearning rate = 0.001\n",
      "\n",
      "EPOCH 3 ...\t\t\tTraining Time:16.9\n",
      "Validation Accuracy = 0.910\tlearning rate = 0.001\n",
      "\n",
      "EPOCH 4 ...\t\t\tTraining Time:16.9\n",
      "Validation Accuracy = 0.922\tlearning rate = 0.001\n",
      "\n",
      "EPOCH 5 ...\t\t\tTraining Time:16.0\n",
      "Validation Accuracy = 0.928\tlearning rate = 0.001\n",
      "\n",
      "EPOCH 6 ...\t\t\tTraining Time:16.3\n",
      "Validation Accuracy = 0.940\tlearning rate = 0.001\n",
      "\n",
      "EPOCH 7 ...\t\t\tTraining Time:16.8\n",
      "Validation Accuracy = 0.946\tlearning rate = 0.001\n",
      "\n",
      "EPOCH 8 ...\t\t\tTraining Time:16.4\n",
      "Validation Accuracy = 0.940\tlearning rate = 0.001\n",
      "\n",
      "EPOCH 9 ...\t\t\tTraining Time:16.9\n",
      "Validation Accuracy = 0.947\tlearning rate = 0.001\n",
      "\n",
      "EPOCH 10 ...\t\t\tTraining Time:16.8\n",
      "Validation Accuracy = 0.941\tlearning rate = 0.001\n",
      "\n",
      "EPOCH 11 ...\t\t\tTraining Time:16.9\n",
      "Validation Accuracy = 0.952\tlearning rate = 0.0001\n",
      "\n",
      "EPOCH 12 ...\t\t\tTraining Time:16.0\n",
      "Validation Accuracy = 0.954\tlearning rate = 0.0001\n",
      "\n",
      "EPOCH 13 ...\t\t\tTraining Time:16.2\n",
      "Validation Accuracy = 0.953\tlearning rate = 0.0001\n",
      "\n",
      "EPOCH 14 ...\t\t\tTraining Time:16.1\n",
      "Validation Accuracy = 0.955\tlearning rate = 0.0001\n",
      "\n",
      "EPOCH 15 ...\t\t\tTraining Time:16.0\n",
      "Validation Accuracy = 0.953\tlearning rate = 0.0001\n",
      "\n",
      "EPOCH 16 ...\t\t\tTraining Time:16.0\n",
      "Validation Accuracy = 0.954\tlearning rate = 0.0001\n",
      "\n",
      "EPOCH 17 ...\t\t\tTraining Time:16.3\n",
      "Validation Accuracy = 0.954\tlearning rate = 0.0001\n",
      "\n",
      "EPOCH 18 ...\t\t\tTraining Time:15.9\n",
      "Validation Accuracy = 0.956\tlearning rate = 0.0001\n",
      "\n",
      "EPOCH 19 ...\t\t\tTraining Time:16.1\n",
      "Validation Accuracy = 0.958\tlearning rate = 0.0001\n",
      "\n",
      "EPOCH 20 ...\t\t\tTraining Time:15.9\n",
      "Validation Accuracy = 0.954\tlearning rate = 0.0001\n",
      "\n",
      "EPOCH 21 ...\t\t\tTraining Time:16.0\n",
      "Validation Accuracy = 0.954\tlearning rate = 1e-05\n",
      "\n",
      "EPOCH 22 ...\t\t\tTraining Time:15.9\n",
      "Validation Accuracy = 0.956\tlearning rate = 1e-05\n",
      "\n",
      "EPOCH 23 ...\t\t\tTraining Time:15.9\n",
      "Validation Accuracy = 0.956\tlearning rate = 1e-05\n",
      "\n",
      "EPOCH 24 ...\t\t\tTraining Time:15.9\n",
      "Validation Accuracy = 0.956\tlearning rate = 1e-05\n",
      "\n",
      "EPOCH 25 ...\t\t\tTraining Time:15.9\n",
      "Validation Accuracy = 0.956\tlearning rate = 1e-05\n",
      "\n",
      "EPOCH 26 ...\t\t\tTraining Time:15.9\n",
      "Validation Accuracy = 0.957\tlearning rate = 1e-05\n",
      "\n",
      "EPOCH 27 ...\t\t\tTraining Time:15.9\n",
      "Validation Accuracy = 0.957\tlearning rate = 1e-05\n",
      "\n",
      "EPOCH 28 ...\t\t\tTraining Time:15.9\n",
      "Validation Accuracy = 0.955\tlearning rate = 1e-05\n",
      "\n",
      "EPOCH 29 ...\t\t\tTraining Time:16.0\n",
      "Validation Accuracy = 0.956\tlearning rate = 1e-05\n",
      "\n",
      "EPOCH 30 ...\t\t\tTraining Time:15.9\n",
      "Validation Accuracy = 0.956\tlearning rate = 1e-05\n",
      "\n",
      "Model saved\n"
     ]
    }
   ],
   "source": [
    "rate = 0.01\n",
    "with tf.Session() as sess:\n",
    "    sess.run(tf.global_variables_initializer())\n",
    "    num_examples = len(X_train)\n",
    "    \n",
    "    print(\"Training...\")\n",
    "    print()\n",
    "    for i in range(EPOCHS):\n",
    "        rate = rate*0.1 if i%10 == 0 else rate\n",
    "        X_train_gray, y_train = shuffle(X_train_gray, y_train)\n",
    "        train_start_time = time.time()\n",
    "        for offset in range(0, num_examples, BATCH_SIZE):\n",
    "            end = offset + BATCH_SIZE\n",
    "            batch_x, batch_y = X_train_gray[offset:end], y_train[offset:end]\n",
    "            sess.run(training_operation_gray, feed_dict={x_gray: batch_x, y: batch_y, learning_rate:rate, keep_prob:k_p})\n",
    "        \n",
    "        train_last_time = time.time()  \n",
    "        validation_accuracy = evaluate(X_valid_gray, y_valid, accuracy_operation_gray, False)\n",
    "        print(\"EPOCH {} ...\\t\\t\\tTraining Time:{:.1f}\".format(i+1,train_last_time-train_start_time))\n",
    "        print(\"Validation Accuracy = {:.3f}\\tlearning rate = {}\".format(validation_accuracy, rate))\n",
    "        print()\n",
    "        \n",
    "    saver.save(sess, './lenet_gray')\n",
    "    print(\"Model saved\")"
   ]
  },
  {
   "cell_type": "markdown",
   "metadata": {},
   "source": [
    "---\n",
    "\n",
    "## Step 3: Test a Model on New Images\n",
    "\n",
    "To give yourself more insight into how your model is working, download at least five pictures of German traffic signs from the web and use your model to predict the traffic sign type.\n",
    "\n",
    "You may find `signnames.csv` useful as it contains mappings from the class id (integer) to the actual sign name."
   ]
  },
  {
   "cell_type": "markdown",
   "metadata": {},
   "source": [
    "### Load and Output the Images"
   ]
  },
  {
   "cell_type": "code",
   "execution_count": 81,
   "metadata": {
    "collapsed": true
   },
   "outputs": [],
   "source": [
    "import cv2\n",
    "import matplotlib.image as mpimg\n",
    "import os"
   ]
  },
  {
   "cell_type": "code",
   "execution_count": 82,
   "metadata": {},
   "outputs": [
    {
     "name": "stdout",
     "output_type": "stream",
     "text": [
      "test3.jpg\n",
      "test1.jpg\n",
      "test2.jpg\n",
      "test0.jpg\n",
      "test4.jpg\n",
      "(5, 32, 32, 3)\n"
     ]
    },
    {
     "data": {
      "image/png": "[encoded data removed]",
      "text/plain": [
       "<matplotlib.figure.Figure at 0x7ff607964fd0>"
      ]
     },
     "metadata": {},
     "output_type": "display_data"
    }
   ],
   "source": [
    "### Load the images and plot them here.\n",
    "### Feel free to use as many code cells as needed.\n",
    "test_img_list = os.listdir('test_signs/')\n",
    "resize_img_set = []\n",
    "test_5_signs_y = [36,2,4,27,16]\n",
    "plt.figure(1)\n",
    "for idx_img in range(len(test_img_list)):\n",
    "    print(test_img_list[idx_img])\n",
    "    test_img = mpimg.imread('./test_signs/'+test_img_list[idx_img])\n",
    "    test_img = cv2.resize(test_img,(32,32))\n",
    "    resize_img_set.append(test_img)\n",
    "\n",
    "resize_img_set = np.array(resize_img_set)\n",
    "print(resize_img_set.shape)\n",
    "plt.figure(1)\n",
    "for i in range(resize_img_set.shape[0]):\n",
    "    plt.subplot(1,resize_img_set.shape[0],i+1)\n",
    "    plt.title(test_5_signs_y[i])\n",
    "    plt.imshow(resize_img_set[i])\n",
    "    \n",
    "resize_img_set_gray = np.sum(resize_img_set/3, axis=3, keepdims=True)\n",
    "    \n",
    "resize_img_set = (resize_img_set - 128.)/128.\n",
    "resize_img_set_gray = (resize_img_set_gray - 128.)/128."
   ]
  },
  {
   "cell_type": "markdown",
   "metadata": {},
   "source": [
    "### Predict the Sign Type for Each Image"
   ]
  },
  {
   "cell_type": "code",
   "execution_count": 121,
   "metadata": {},
   "outputs": [
    {
     "name": "stdout",
     "output_type": "stream",
     "text": [
      "INFO:tensorflow:Restoring parameters from ./lenet_rgb\n",
      "Test Accuracy = 0.200\n",
      "Each Image Class:\n",
      "[35  1  6 18 16]\n"
     ]
    }
   ],
   "source": [
    "### Run the predictions here and use the model to output the prediction for each image.\n",
    "### Make sure to pre-process the images with the same pre-processing pipeline used earlier.\n",
    "### Feel free to use as many code cells as needed.\n",
    "with tf.Session() as sess:\n",
    "    saver.restore(sess, './lenet_rgb')\n",
    "    pred_test_5_top5 = sess.run(tf.argmax(logits_rgb, 1),feed_dict={x_rgb: resize_img_set, y: test_5_signs_y, keep_prob:1.0})\n",
    "    test_accuracy = evaluate(resize_img_set, test_5_signs_y, accuracy_operation_rgb)\n",
    "    print(\"Test Accuracy = {:.3f}\".format(test_accuracy))\n",
    "\n",
    "print('Each Image Class:')\n",
    "print(pred_test_5_top5)"
   ]
  },
  {
   "cell_type": "code",
   "execution_count": 85,
   "metadata": {},
   "outputs": [
    {
     "name": "stdout",
     "output_type": "stream",
     "text": [
      "INFO:tensorflow:Restoring parameters from ./lenet_gray\n",
      "Test Accuracy = 0.400\n",
      "Each Image Class:\n",
      "[13  2  3 27  9]\n"
     ]
    }
   ],
   "source": [
    "with tf.Session() as sess:\n",
    "    saver.restore(sess, './lenet_gray')\n",
    "    pred_test_5_top5 = sess.run(tf.argmax(logits_gray, 1),feed_dict={x_gray: resize_img_set_gray, y: test_5_signs_y, keep_prob:1.0})\n",
    "    test_accuracy = evaluate(resize_img_set_gray, test_5_signs_y, accuracy_operation_gray, False)\n",
    "    print(\"Test Accuracy = {:.3f}\".format(test_accuracy))\n",
    "\n",
    "print('Each Image Class:')\n",
    "print(pred_test_5_top5)"
   ]
  },
  {
   "cell_type": "markdown",
   "metadata": {},
   "source": [
    "#### From the result above, we can conclude that the model have difficult in classify some traffic signs class. This is because some class have a small number of trainning data, and some class have a large number of training data, this imbalance cause model can not classify some traffic signs class precisely."
   ]
  },
  {
   "attachments": {},
   "cell_type": "markdown",
   "metadata": {},
   "source": [
    "For example, Speed limit traffic signs are difficult to classify in this model, because of lack of training data."
   ]
  },
  {
   "cell_type": "markdown",
   "metadata": {},
   "source": [
    "### Analyze Performance"
   ]
  },
  {
   "cell_type": "code",
   "execution_count": 123,
   "metadata": {},
   "outputs": [
    {
     "name": "stdout",
     "output_type": "stream",
     "text": [
      "The shape of X_test_gry: (12630, 32, 32, 1)\n"
     ]
    }
   ],
   "source": [
    "### Calculate the accuracy for these 5 new images. \n",
    "### For example, if the model predicted 1 out of 5 signs correctly, it's 20% accurate on these new images.\n",
    "with open(testing_file, mode='rb') as f:\n",
    "    test = pickle.load(f)\n",
    "    \n",
    "X_test, y_test = test['features'], test['labels']\n",
    "X_test_gry = np.sum(X_test/3, axis=3, keepdims=True)\n",
    "print('The shape of X_test_gry: {}'.format(X_test_gry.shape))\n",
    "\n",
    "X_test = (X_test-128.)/128.\n",
    "X_test_gry = (X_test_gry-128.)/128."
   ]
  },
  {
   "cell_type": "code",
   "execution_count": 124,
   "metadata": {},
   "outputs": [
    {
     "name": "stdout",
     "output_type": "stream",
     "text": [
      "INFO:tensorflow:Restoring parameters from ./lenet_rgb\n",
      "Test Accuracy = 0.932\n"
     ]
    }
   ],
   "source": [
    "#For RGB\n",
    "with tf.Session() as sess:\n",
    "    saver.restore(sess, './lenet_rgb')\n",
    "\n",
    "    test_accuracy = evaluate(X_test, y_test, accuracy_operation_rgb)\n",
    "    print(\"Test Accuracy = {:.3f}\".format(test_accuracy))"
   ]
  },
  {
   "cell_type": "code",
   "execution_count": 88,
   "metadata": {},
   "outputs": [
    {
     "name": "stdout",
     "output_type": "stream",
     "text": [
      "INFO:tensorflow:Restoring parameters from ./lenet_gray\n",
      "Test Accuracy = 0.946\n"
     ]
    }
   ],
   "source": [
    "#For gray\n",
    "with tf.Session() as sess:\n",
    "    saver.restore(sess, './lenet_gray')\n",
    "\n",
    "    test_accuracy = evaluate(X_test_gry, y_test, accuracy_operation_gray, False)\n",
    "    print(\"Test Accuracy = {:.3f}\".format(test_accuracy))"
   ]
  },
  {
   "cell_type": "markdown",
   "metadata": {},
   "source": [
    "### Output Top 5 Softmax Probabilities For Each Image Found on the Web"
   ]
  },
  {
   "cell_type": "markdown",
   "metadata": {},
   "source": [
    "For each of the new images, print out the model's softmax probabilities to show the **certainty** of the model's predictions (limit the output to the top 5 probabilities for each image). [`tf.nn.top_k`](https://www.tensorflow.org/versions/r0.12/api_docs/python/nn.html#top_k) could prove helpful here. \n",
    "\n",
    "The example below demonstrates how tf.nn.top_k can be used to find the top k predictions for each image.\n",
    "\n",
    "`tf.nn.top_k` will return the values and indices (class ids) of the top k predictions. So if k=3, for each sign, it'll return the 3 largest probabilities (out of a possible 43) and the correspoding class ids.\n",
    "\n",
    "Take this numpy array as an example. The values in the array represent predictions. The array contains softmax probabilities for five candidate images with six possible classes. `tk.nn.top_k` is used to choose the three classes with the highest probability:\n",
    "\n",
    "```\n",
    "# (5, 6) array\n",
    "a = np.array([[ 0.24879643,  0.07032244,  0.12641572,  0.34763842,  0.07893497,\n",
    "         0.12789202],\n",
    "       [ 0.28086119,  0.27569815,  0.08594638,  0.0178669 ,  0.18063401,\n",
    "         0.15899337],\n",
    "       [ 0.26076848,  0.23664738,  0.08020603,  0.07001922,  0.1134371 ,\n",
    "         0.23892179],\n",
    "       [ 0.11943333,  0.29198961,  0.02605103,  0.26234032,  0.1351348 ,\n",
    "         0.16505091],\n",
    "       [ 0.09561176,  0.34396535,  0.0643941 ,  0.16240774,  0.24206137,\n",
    "         0.09155967]])\n",
    "```\n",
    "\n",
    "Running it through `sess.run(tf.nn.top_k(tf.constant(a), k=3))` produces:\n",
    "\n",
    "```\n",
    "TopKV2(values=array([[ 0.34763842,  0.24879643,  0.12789202],\n",
    "       [ 0.28086119,  0.27569815,  0.18063401],\n",
    "       [ 0.26076848,  0.23892179,  0.23664738],\n",
    "       [ 0.29198961,  0.26234032,  0.16505091],\n",
    "       [ 0.34396535,  0.24206137,  0.16240774]]), indices=array([[3, 0, 5],\n",
    "       [0, 1, 4],\n",
    "       [0, 5, 1],\n",
    "       [1, 3, 5],\n",
    "       [1, 4, 3]], dtype=int32))\n",
    "```\n",
    "\n",
    "Looking just at the first row we get `[ 0.34763842,  0.24879643,  0.12789202]`, you can confirm these are the 3 largest probabilities in `a`. You'll also notice `[3, 0, 5]` are the corresponding indices."
   ]
  },
  {
   "cell_type": "code",
   "execution_count": 125,
   "metadata": {},
   "outputs": [
    {
     "name": "stdout",
     "output_type": "stream",
     "text": [
      "INFO:tensorflow:Restoring parameters from ./lenet_rgb\n",
      "Test Accuracy = 0.200\n",
      "[[  5.86231709e-01   3.78926188e-01   2.90487614e-02   3.68512981e-03\n",
      "    1.42037764e-03]\n",
      " [  9.58624005e-01   4.13752273e-02   7.25175425e-07   8.97671697e-08\n",
      "    2.44078890e-08]\n",
      " [  8.61729085e-01   1.37283593e-01   6.80122350e-04   2.29409459e-04\n",
      "    7.54603316e-05]\n",
      " [  5.44503510e-01   4.55494136e-01   2.25917142e-06   5.62358409e-08\n",
      "    2.79761423e-08]\n",
      " [  9.99996662e-01   3.25782594e-06   6.57655335e-08   2.07692530e-08\n",
      "    6.98187241e-09]]\n",
      "[[35 34 38 36 33]\n",
      " [ 1  2  5  3  0]\n",
      " [ 6  5 25 31  3]\n",
      " [18 27 26 24 11]\n",
      " [16 41  9 35 40]]\n"
     ]
    }
   ],
   "source": [
    "### Print out the top five softmax probabilities for the predictions on the German traffic sign images found on the web. \n",
    "### Feel free to use as many code cells as needed.\n",
    "with tf.Session() as sess:\n",
    "    saver.restore(sess, './lenet_rgb')\n",
    "    top5, top5_idx = sess.run(tf.nn.top_k(tf.nn.softmax(logits_rgb), 5),feed_dict={x_rgb: resize_img_set, y: test_5_signs_y, keep_prob:1.0})\n",
    "    test_accuracy = evaluate(resize_img_set, test_5_signs_y, accuracy_operation_rgb)\n",
    "    print(\"Test Accuracy = {:.3f}\".format(test_accuracy))\n",
    "    \n",
    "print(top5)\n",
    "print(top5_idx)"
   ]
  },
  {
   "cell_type": "markdown",
   "metadata": {},
   "source": [
    "** the model has uncertain in predict other image. in my opinion, this uncertain prediction may cause by the imbalance of training data set. and the quality of input traffic sign image may also cause the uncertain prediction. for example, the low resolution of image and distorted image would make model predict wrong class. **"
   ]
  },
  {
   "cell_type": "markdown",
   "metadata": {},
   "source": [
    "** from the above, Top 5 Softmax Probabilities For Each Image, we can conclude that in some class the top one class has  high compared the last 4. however, because of the uncertain model discussion above, in some class the top one isn't  very high. **"
   ]
  },
  {
   "cell_type": "markdown",
   "metadata": {},
   "source": [
    "### Project Writeup\n",
    "\n",
    "Once you have completed the code implementation, document your results in a project writeup using this [template](https://github.com/udacity/CarND-Traffic-Sign-Classifier-Project/blob/master/writeup_template.md) as a guide. The writeup can be in a markdown or pdf file. "
   ]
  },
  {
   "cell_type": "markdown",
   "metadata": {},
   "source": [
    "> **Note**: Once you have completed all of the code implementations and successfully answered each question above, you may finalize your work by exporting the iPython Notebook as an HTML document. You can do this by using the menu above and navigating to  \\n\",\n",
    "    \"**File -> Download as -> HTML (.html)**. Include the finished document along with this notebook as your submission."
   ]
  },
  {
   "cell_type": "markdown",
   "metadata": {},
   "source": [
    "---\n",
    "\n",
    "## Step 4 (Optional): Visualize the Neural Network's State with Test Images\n",
    "\n",
    " This Section is not required to complete but acts as an additional excersise for understaning the output of a neural network's weights. While neural networks can be a great learning device they are often referred to as a black box. We can understand what the weights of a neural network look like better by plotting their feature maps. After successfully training your neural network you can see what it's feature maps look like by plotting the output of the network's weight layers in response to a test stimuli image. From these plotted feature maps, it's possible to see what characteristics of an image the network finds interesting. For a sign, maybe the inner network feature maps react with high activation to the sign's boundary outline or to the contrast in the sign's painted symbol.\n",
    "\n",
    " Provided for you below is the function code that allows you to get the visualization output of any tensorflow weight layer you want. The inputs to the function should be a stimuli image, one used during training or a new one you provided, and then the tensorflow variable name that represents the layer's state during the training process, for instance if you wanted to see what the [LeNet lab's](https://classroom.udacity.com/nanodegrees/nd013/parts/fbf77062-5703-404e-b60c-95b78b2f3f9e/modules/6df7ae49-c61c-4bb2-a23e-6527e69209ec/lessons/601ae704-1035-4287-8b11-e2c2716217ad/concepts/d4aca031-508f-4e0b-b493-e7b706120f81) feature maps looked like for it's second convolutional layer you could enter conv2 as the tf_activation variable.\n",
    "\n",
    "For an example of what feature map outputs look like, check out NVIDIA's results in their paper [End-to-End Deep Learning for Self-Driving Cars](https://devblogs.nvidia.com/parallelforall/deep-learning-self-driving-cars/) in the section Visualization of internal CNN State. NVIDIA was able to show that their network's inner weights had high activations to road boundary lines by comparing feature maps from an image with a clear path to one without. Try experimenting with a similar test to show that your trained network's weights are looking for interesting features, whether it's looking at differences in feature maps from images with or without a sign, or even what feature maps look like in a trained network vs a completely untrained one on the same sign image.\n",
    "\n",
    "<figure>\n",
    " <img src=\"visualize_cnn.png\" width=\"380\" alt=\"Combined Image\" />\n",
    " <figcaption>\n",
    " <p></p> \n",
    " <p style=\"text-align: center;\"> Your output should look something like this (above)</p> \n",
    " </figcaption>\n",
    "</figure>\n",
    " <p></p> \n"
   ]
  },
  {
   "cell_type": "code",
   "execution_count": null,
   "metadata": {
    "collapsed": true
   },
   "outputs": [],
   "source": [
    "### Visualize your network's feature maps here.\n",
    "### Feel free to use as many code cells as needed.\n",
    "\n",
    "# image_input: the test image being fed into the network to produce the feature maps\n",
    "# tf_activation: should be a tf variable name used during your training procedure that represents the calculated state of a specific weight layer\n",
    "# activation_min/max: can be used to view the activation contrast in more detail, by default matplot sets min and max to the actual min and max values of the output\n",
    "# plt_num: used to plot out multiple different weight feature map sets on the same block, just extend the plt number for each new feature map entry\n",
    "\n",
    "def outputFeatureMap(image_input, tf_activation, activation_min=-1, activation_max=-1 ,plt_num=1):\n",
    "    # Here make sure to preprocess your image_input in a way your network expects\n",
    "    # with size, normalization, ect if needed\n",
    "    # image_input =\n",
    "    # Note: x should be the same name as your network's tensorflow data placeholder variable\n",
    "    # If you get an error tf_activation is not defined it may be having trouble accessing the variable from inside a function\n",
    "    activation = tf_activation.eval(session=sess,feed_dict={x : image_input})\n",
    "    featuremaps = activation.shape[3]\n",
    "    plt.figure(plt_num, figsize=(15,15))\n",
    "    for featuremap in range(featuremaps):\n",
    "        plt.subplot(6,8, featuremap+1) # sets the number of feature maps to show on each row and column\n",
    "        plt.title('FeatureMap ' + str(featuremap)) # displays the feature map number\n",
    "        if activation_min != -1 & activation_max != -1:\n",
    "            plt.imshow(activation[0,:,:, featuremap], interpolation=\"nearest\", vmin =activation_min, vmax=activation_max, cmap=\"gray\")\n",
    "        elif activation_max != -1:\n",
    "            plt.imshow(activation[0,:,:, featuremap], interpolation=\"nearest\", vmax=activation_max, cmap=\"gray\")\n",
    "        elif activation_min !=-1:\n",
    "            plt.imshow(activation[0,:,:, featuremap], interpolation=\"nearest\", vmin=activation_min, cmap=\"gray\")\n",
    "        else:\n",
    "            plt.imshow(activation[0,:,:, featuremap], interpolation=\"nearest\", cmap=\"gray\")"
   ]
  }
 ],
 "metadata": {
  "anaconda-cloud": {},
  "kernelspec": {
   "display_name": "Python 3",
   "language": "python",
   "name": "python3"
  },
  "language_info": {
   "codemirror_mode": {
    "name": "ipython",
    "version": 3
   },
   "file_extension": ".py",
   "mimetype": "text/x-python",
   "name": "python",
   "nbconvert_exporter": "python",
   "pygments_lexer": "ipython3",
   "version": "3.5.2"
  },
  "widgets": {
   "state": {},
   "version": "1.1.2"
  }
 },
 "nbformat": 4,
 "nbformat_minor": 1
}
