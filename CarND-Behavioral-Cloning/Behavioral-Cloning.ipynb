{
 "cells": [
  {
   "cell_type": "code",
   "execution_count": 1,
   "metadata": {
    "collapsed": true
   },
   "outputs": [],
   "source": [
    "%matplotlib inline\n",
    "import matplotlib.pyplot as plt\n",
    "import csv\n",
    "import numpy as np\n",
    "import cv2"
   ]
  },
  {
   "cell_type": "code",
   "execution_count": 2,
   "metadata": {
    "collapsed": true
   },
   "outputs": [],
   "source": [
    "lines = []\n",
    "with open('./train_data/driving_log.csv') as csvfile:\n",
    "    reader = csv.reader(csvfile)\n",
    "    for line in reader:\n",
    "        lines.append(line)"
   ]
  },
  {
   "cell_type": "code",
   "execution_count": 3,
   "metadata": {
    "collapsed": true
   },
   "outputs": [],
   "source": [
    "def img_add_noise(img, sigma=10):\n",
    "    mean = np.mean(img)\n",
    "    noise = sigma*np.random.randn(img.shape[0],img.shape[1],img.shape[2])+mean\n",
    "    img = img + noise\n",
    "    img = (img-np.min(img))/(np.max(img)-np.min(img))\n",
    "    return img\n",
    "\n",
    "def adjust_gamma(image, gamma=1.0):\n",
    "    invGamma = 1.0 / gamma\n",
    "    table = np.array([((i / 255.0) ** invGamma) * 255 for i in np.arange(0, 256)]).astype(\"uint8\")\n",
    "    # apply gamma correction using the lookup table\n",
    "    return cv2.LUT(image, table)\n",
    "\n",
    "def translate_img(img):\n",
    "    y,x,c = img.shape\n",
    "    translation_x = np.random.uniform(-0.2*x,0.2*x)\n",
    "    translation_matrix = np.float32([[1,0,translation_x],[0,1,0]])\n",
    "    translation__img = cv2.warpAffine(img,translation_matrix,(x,y))\n",
    "    return translation__img\n",
    "\n",
    "def rotate_img(img):\n",
    "    y,x,c = img.shape\n",
    "    angle = np.random.uniform(-10,10)\n",
    "    scale = 1\n",
    "    rotation_point = (x/2,y/2)\n",
    "    rotation_matrix = cv2.getRotationMatrix2D(rotation_point,angle,scale)\n",
    "    rotated_img = cv2.warpAffine(img,rotation_matrix,(x,y))\n",
    "    return rotated_img\n",
    "\n",
    "from sklearn.utils import shuffle\n",
    "\n",
    "def generator(sample,batch_size=16):\n",
    "    num_sample = len(sample)\n",
    "    while 1:\n",
    "        shuffle(sample)\n",
    "        for offset in range(0, num_sample, batch_size):\n",
    "            batch = sample[offset:offset+batch_size]\n",
    "            images = []\n",
    "            measurements = []\n",
    "            for line in batch:\n",
    "                for i in range(3):\n",
    "                    steering = float(line[3])\n",
    "                    image_name = line[i].split('/')[-1]\n",
    "                    image_path = './train_data/IMG/' + image_name\n",
    "                    image = cv2.imread(image_path)\n",
    "                    image = cv2.cvtColor(image, cv2.COLOR_BGR2RGB)\n",
    "                    img_flipped = cv2.flip(image,1)\n",
    "                    img_rotated = rotate_img(image)\n",
    "                    img_blur = cv2.GaussianBlur(image,(7,7),0)\n",
    "                    images.append(image)\n",
    "                    images.append(img_flipped)\n",
    "                    images.append(img_rotated)\n",
    "                    images.append(img_blur)\n",
    "                    camera = image_name.split('_')[0]\n",
    "                    if(camera == 'center'):\n",
    "                        steering_flipped_center = -steering\n",
    "                        measurements.append(steering) # image center\n",
    "                        measurements.append(steering_flipped_center) # steering_flipped center\n",
    "                        measurements.append(steering) # img_rotated center\n",
    "                        measurements.append(steering) # img_blur center\n",
    "                    elif(camera == 'left'):\n",
    "                        correction = 0.15\n",
    "                        steering_left = steering + correction\n",
    "                        steering_flipped_left = -steering_left\n",
    "                        measurements.append(steering_left) # image left\n",
    "                        measurements.append(steering_flipped_left) # steering_flipped left\n",
    "                        measurements.append(steering_left) # img_rotated left\n",
    "                        measurements.append(steering_left) # img_blur left\n",
    "                    elif(camera == 'right'):\n",
    "                        correction = 0.15\n",
    "                        steering_right = steering - correction\n",
    "                        steering_flipped_right = -steering_right\n",
    "                        measurements.append(steering_right) # image right\n",
    "                        measurements.append(steering_flipped_right) # steering_flipped right\n",
    "                        measurements.append(steering_right) # img_rotated right\n",
    "                        measurements.append(steering_right) # img_blur right\n",
    "                        \n",
    "            x = np.array(images)\n",
    "            y = np.array(measurements)\n",
    "            yield shuffle(x,y)"
   ]
  },
  {
   "cell_type": "code",
   "execution_count": 4,
   "metadata": {
    "collapsed": true
   },
   "outputs": [],
   "source": [
    "from sklearn.model_selection import train_test_split\n",
    "train_samples, validation_samples = train_test_split(lines, test_size=0.2)"
   ]
  },
  {
   "cell_type": "code",
   "execution_count": 5,
   "metadata": {
    "collapsed": true
   },
   "outputs": [],
   "source": [
    "batch_size = 16\n",
    "train_gen = generator(train_samples, batch_size)\n",
    "valid_gen = generator(validation_samples, batch_size)"
   ]
  },
  {
   "cell_type": "code",
   "execution_count": 6,
   "metadata": {},
   "outputs": [
    {
     "name": "stderr",
     "output_type": "stream",
     "text": [
      "Using TensorFlow backend.\n"
     ]
    }
   ],
   "source": [
    "import keras\n",
    "from keras.models import Sequential\n",
    "from keras.layers import Dense, Flatten, Conv2D, MaxPooling2D, Dropout, Lambda, Cropping2D, BatchNormalization\n",
    "from keras import regularizers"
   ]
  },
  {
   "cell_type": "code",
   "execution_count": 7,
   "metadata": {},
   "outputs": [],
   "source": [
    "model = Sequential()\n",
    "model.add(Lambda(lambda x:x/255.0-0.5, input_shape=(160, 320, 3)))\n",
    "model.add(Cropping2D(cropping=((40,10),(0,0))))\n",
    "model.add(Conv2D(24, (5, 5), strides = (2,2), padding='valid', use_bias=True, activation='relu'))\n",
    "model.add(Dropout(0.5))\n",
    "model.add(Conv2D(36, (5, 5), strides = (2,2), padding='valid', use_bias=True, activation='relu'))\n",
    "model.add(Dropout(0.5))\n",
    "model.add(Conv2D(48, (5, 5), strides = (2,2), padding='valid', use_bias=True, activation='relu'))\n",
    "model.add(Dropout(0.5))\n",
    "model.add(Conv2D(64, (3, 3), strides = (2,2), padding='valid', use_bias=True, activation='relu'))\n",
    "model.add(Dropout(0.5))\n",
    "model.add(Conv2D(64, (3, 3), strides = (2,2), padding='valid', use_bias=True, activation='relu'))\n",
    "model.add(Dropout(0.5))\n",
    "model.add(Flatten())\n",
    "model.add(Dense(1024,activation='relu'))\n",
    "model.add(Dense(100,activation='relu'))\n",
    "model.add(Dense(50,activation='relu'))\n",
    "model.add(Dense(10,activation='relu'))\n",
    "model.add(Dense(1,activation='linear'))"
   ]
  },
  {
   "cell_type": "code",
   "execution_count": 9,
   "metadata": {
    "scrolled": true
   },
   "outputs": [
    {
     "name": "stdout",
     "output_type": "stream",
     "text": [
      "Epoch 3/3\n",
      "487/486 [==============================] - 1980s - loss: 0.0143 - val_loss: 0.0136\n"
     ]
    }
   ],
   "source": [
    "model.compile(loss='mse', optimizer='adam')\n",
    "# , initial_epoch = 10\n",
    "model.fit_generator(generator=train_gen, steps_per_epoch=len(train_samples)/batch_size, epochs=3, validation_data=valid_gen, \n",
    "                    validation_steps=len(validation_samples)/batch_size, initial_epoch = 2)\n",
    "\n",
    "model.save('model.h5')"
   ]
  },
  {
   "cell_type": "code",
   "execution_count": 10,
   "metadata": {
    "collapsed": true
   },
   "outputs": [],
   "source": [
    "from keras.utils.visualize_util import plot\n",
    "plot(model, to_file='model.png', show_shapes=True)"
   ]
  },
  {
   "cell_type": "code",
   "execution_count": null,
   "metadata": {
    "collapsed": true,
    "scrolled": true
   },
   "outputs": [],
   "source": [
    "print(len(lines))\n",
    "idx = np.random.randint(0,len(lines))\n",
    "image_name = lines[1000][0].split('/')[-1]\n",
    "image = cv2.imread('./train_data/IMG/'+image_name)\n",
    "image = cv2.cvtColor(image, cv2.COLOR_BGR2RGB)\n",
    "image_flipped = cv2.flip(image,1)\n",
    "\n",
    "plt.axis('off')\n",
    "plt.title(image_name)\n",
    "plt.imshow(image_flipped)"
   ]
  }
 ],
 "metadata": {
  "kernelspec": {
   "display_name": "Python 3",
   "language": "python",
   "name": "python3"
  },
  "language_info": {
   "codemirror_mode": {
    "name": "ipython",
    "version": 3
   },
   "file_extension": ".py",
   "mimetype": "text/x-python",
   "name": "python",
   "nbconvert_exporter": "python",
   "pygments_lexer": "ipython3",
   "version": "3.5.2"
  },
  "widgets": {
   "state": {},
   "version": "1.1.2"
  }
 },
 "nbformat": 4,
 "nbformat_minor": 2
}
